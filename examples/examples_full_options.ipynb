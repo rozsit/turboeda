{
 "cells": [
  {
   "cell_type": "markdown",
   "id": "402ff4bd",
   "metadata": {},
   "source": [
    "# turboeda — Full Options Notebook\n",
    "\n",
    "This notebook demonstrates all options available when using `turboeda` from a Jupyter environment.\n",
    "It matches the current codebase (no optional PyArrow dependency).\n"
   ]
  },
  {
   "cell_type": "markdown",
   "id": "d4d08703",
   "metadata": {},
   "source": [
    "## 0) Install"
   ]
  },
  {
   "cell_type": "code",
   "execution_count": null,
   "id": "617072c4",
   "metadata": {},
   "outputs": [],
   "source": [
    "# pip install turboeda"
   ]
  },
  {
   "cell_type": "markdown",
   "id": "19ed3759",
   "metadata": {},
   "source": [
    "## 1) Option reference (Python API)\n",
    "\n",
    "| Argument | Type | Default | Description |\n",
    "|---|---|---|---|\n",
    "| `input_path` | `str` | **required** | Path to CSV/XLSX file. |\n",
    "| `sep` | `str` | `\",\"` | CSV delimiter (ignored for Excel). |\n",
    "| `sheet` | `str \\| None` | `None` | Excel sheet name. If `None`, the **first** sheet is used. |\n",
    "| `sample_rows` | `int \\| None` | `200000` | If set, randomly samples at most this many rows (speed). Use `None` for full data. |\n",
    "| `max_corr_cols` | `int` | `40` | Max number of columns included in correlation heatmaps. |\n",
    "| `max_numeric_plots` | `int` | `12` | Max numeric columns to plot histograms for. |\n",
    "| `max_categorical_plots` | `int` | `12` | Max categorical columns to plot bar charts for. |\n",
    "| `theme` | `str` | `\"dark\"` | Report theme: `'dark'` or `'light'`. |\n",
    "| `auto_save_and_open` | `bool` | `False` | If `True`, **after** `run()` it **saves** the HTML and **opens** it in the default browser automatically. |\n",
    "| `out_path` | `str \\| None` | `None` | Custom output HTML path for auto-save. If `None`, uses `<input>_report.html`. |\n",
    "| `open_target` | `str` | `\"tab\"` | Used with auto-open or `to_html(..., open_in_browser=True)`: `'tab'` or `'window'`. |\n",
    "| `profile` | `str` | `\"standard\"` | Placeholder to choose different analysis depth presets (`quick|standard|deep`). |\n"
   ]
  },
  {
   "cell_type": "markdown",
   "id": "7f02f7cd",
   "metadata": {},
   "source": [
    "## 2) Prepare input (demo fallback)\n",
    "Set `input_path` to your file. If it doesn't exist, this cell creates a tiny demo CSV and an Excel file so the notebook can run end-to-end.\n"
   ]
  },
  {
   "cell_type": "code",
   "execution_count": null,
   "id": "04086873",
   "metadata": {},
   "outputs": [],
   "source": [
    "from pathlib import Path\n",
    "import pandas as pd\n",
    "\n",
    "input_path = Path(\"bankdataset.xlsx\")  # change this to your dataset\n",
    "\n",
    "if not input_path.exists():\n",
    "    df_demo = pd.DataFrame({\n",
    "        \"age\": [25, 32, 47, 51, 37, 29, 41, 33],\n",
    "        \"balance\": [200, 1200, 5600, 3100, 450, 900, 7800, 1600],\n",
    "        \"is_active\": [True, False, True, True, False, True, True, False],\n",
    "        \"segment\": [\"A\", \"B\", \"A\", \"C\", \"B\", \"A\", \"C\", \"B\"],\n",
    "        \"opened\": [\n",
    "            \"2021-01-10\", \"2021-03-02\", \"2020-12-29\", \"2022-05-14\",\n",
    "            \"2022-05-30\", \"2023-04-01\", \"2021-07-18\", \"2020-10-09\"\n",
    "        ],\n",
    "    })\n",
    "    csv_path = Path(\"bankdataset.csv\")\n",
    "    df_demo.to_csv(csv_path, index=False)\n",
    "    with pd.ExcelWriter(input_path) as xl:\n",
    "        df_demo.to_excel(xl, sheet_name=\"Sheet1\", index=False)\n",
    "        (df_demo.sample(frac=1.0, random_state=42)).to_excel(xl, sheet_name=\"Another\", index=False)\n",
    "    print(\"Demo files created:\")\n",
    "    print(\" -\", csv_path.resolve())\n",
    "    print(\" -\", input_path.resolve())\n",
    "else:\n",
    "    print(\"Using existing:\", input_path.resolve())"
   ]
  },
  {
   "cell_type": "markdown",
   "id": "ac7307dc",
   "metadata": {},
   "source": [
    "## 3) Minimal example (defaults)\n",
    "Uses the first Excel sheet automatically (or CSV delimiter detection)."
   ]
  },
  {
   "cell_type": "code",
   "execution_count": null,
   "id": "d36608eb",
   "metadata": {},
   "outputs": [],
   "source": [
    "from turboeda import EDAReport\n",
    "from pathlib import Path\n",
    "\n",
    "eda = EDAReport(\n",
    "    input_path=input_path.as_posix(),\n",
    ")\n",
    "res_min = eda.run()\n",
    "\n",
    "out_min = Path(input_path).with_name(f\"{Path(input_path).stem}_report.html\")\n",
    "eda.to_html(out_min.as_posix(), open_in_browser=True)\n",
    "out_min"
   ]
  },
  {
   "cell_type": "markdown",
   "id": "9a91a406",
   "metadata": {},
   "source": [
    "## 4) Full example (all options)\n",
    "Demonstrates setting every parameter explicitly, including auto-open after `run()`."
   ]
  },
  {
   "cell_type": "code",
   "execution_count": null,
   "id": "37be2351",
   "metadata": {},
   "outputs": [],
   "source": [
    "from turboeda import EDAReport\n",
    "from pathlib import Path\n",
    "\n",
    "full_out = Path(input_path).with_name(\"bankdataset_full_report.html\")\n",
    "\n",
    "eda_full = EDAReport(\n",
    "    input_path=input_path.as_posix(),\n",
    "    sep=\",\",                 # CSV only; ignored for Excel\n",
    "    sheet=None,               # Excel: None -> use first sheet; otherwise provide a sheet name string\n",
    "    sample_rows=None,         # None -> use all rows; or set an int to sample large datasets\n",
    "\n",
    "    max_corr_cols=100_000,    # effectively unbounded for most datasets\n",
    "    max_numeric_plots=10_000, # number of numeric histograms\n",
    "    max_categorical_plots=10_000, # number of categorical bar charts\n",
    "\n",
    "    theme=\"dark\",            # or \"light\"\n",
    "\n",
    "    # Auto save and open after run()\n",
    "    auto_save_and_open=True,  # <-- saves and opens in browser automatically after run()\n",
    "    out_path=full_out.as_posix(),\n",
    "    open_target=\"tab\",       # or \"window\"\n",
    "\n",
    "    profile=\"standard\",      # quick | standard | deep (placeholder)\n",
    ")\n",
    "\n",
    "res_full = eda_full.run()    # runs EDA, saves HTML to full_out, and opens it in default browser\n",
    "full_out"
   ]
  },
  {
   "cell_type": "markdown",
   "id": "1061f3f4",
   "metadata": {},
   "source": [
    "## 5) Inline preview in Jupyter (IFrame)\n",
    "Handy if you are working on a remote server without a GUI browser."
   ]
  },
  {
   "cell_type": "code",
   "execution_count": null,
   "id": "1f418c8c",
   "metadata": {},
   "outputs": [],
   "source": [
    "from IPython.display import IFrame\n",
    "IFrame(src=str(full_out), width=\"100%\", height=800)"
   ]
  },
  {
   "cell_type": "markdown",
   "id": "642b9d2d",
   "metadata": {},
   "source": [
    "## 6) Excel sheet selection example\n",
    "If you want a specific sheet, pass it explicitly. Otherwise the **first** sheet is used by default."
   ]
  },
  {
   "cell_type": "code",
   "execution_count": null,
   "id": "0c7e7c5b",
   "metadata": {},
   "outputs": [],
   "source": [
    "from turboeda import EDAReport\n",
    "from pathlib import Path\n",
    "\n",
    "sheet_out = Path(input_path).with_name(\"bankdataset_sheet_report.html\")\n",
    "eda_sheet = EDAReport(\n",
    "    input_path=input_path.as_posix(),\n",
    "    sheet=\"Another\",          # set a specific sheet\n",
    "    theme=\"light\",\n",
    ")\n",
    "res_sheet = eda_sheet.run()\n",
    "eda_sheet.to_html(sheet_out.as_posix(), open_in_browser=False)\n",
    "sheet_out"
   ]
  },
  {
   "cell_type": "markdown",
   "id": "d9aac600",
   "metadata": {},
   "source": [
    "## 7) Where the HTML is saved\n",
    "- If you **do not** specify an output file (API or CLI), turboeda uses: **`<input_basename>_report.html`** next to the input file.\n",
    "- With `auto_save_and_open=True` + `out_path=None`, it applies the same default naming rule.\n",
    "- With `out_path=\"custom.html\"`, it saves to your custom path and opens that."
   ]
  },
  {
   "cell_type": "markdown",
   "id": "19990f3b",
   "metadata": {},
   "source": [
    "## 8) Tips\n",
    "- Very large heatmaps or many per-variable charts can make the HTML heavy. Consider reducing `max_corr_cols`, `max_numeric_plots`, `max_categorical_plots` or sampling via `sample_rows`.\n",
    "- Datetime detection is heuristic-based. For consistent parsing, pre-format timestamps upstream.\n",
    "- Themes: the notebook uses `theme=\"dark\"` by default; switch to `\"light\"` if preferred."
   ]
  }
 ],
 "metadata": {
  "kernelspec": {
   "display_name": "test_turboeda",
   "language": "python",
   "name": "test_turboeda"
  },
  "language_info": {
   "codemirror_mode": {
    "name": "ipython",
    "version": 3
   },
   "file_extension": ".py",
   "mimetype": "text/x-python",
   "name": "python",
   "nbconvert_exporter": "python",
   "pygments_lexer": "ipython3",
   "version": "3.12.1"
  }
 },
 "nbformat": 4,
 "nbformat_minor": 5
}
